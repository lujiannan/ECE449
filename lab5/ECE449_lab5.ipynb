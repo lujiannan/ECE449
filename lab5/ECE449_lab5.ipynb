{
  "nbformat": 4,
  "nbformat_minor": 0,
  "metadata": {
    "colab": {
      "provenance": []
    },
    "kernelspec": {
      "name": "python3",
      "display_name": "Python 3"
    },
    "language_info": {
      "name": "python"
    }
  },
  "cells": [
    {
      "cell_type": "code",
      "source": [
        "!pip install scikit-fuzzy\n",
        "!pip install EasyGA"
      ],
      "metadata": {
        "id": "-r2LMR-9vSBH"
      },
      "execution_count": null,
      "outputs": []
    },
    {
      "cell_type": "code",
      "source": [
        "import skfuzzy as fuzz\n",
        "from skfuzzy import control as ctrl\n",
        "import numpy as np\n",
        "from sklearn.pipeline import Pipeline\n",
        "import re\n",
        "import EasyGA\n",
        "import random\n",
        "import pandas as pd\n",
        "import os"
      ],
      "metadata": {
        "id": "x7vNS69ozS9o"
      },
      "execution_count": 39,
      "outputs": []
    },
    {
      "cell_type": "code",
      "source": [
        "def fuzzyModelConstruction(chromosome):\n",
        "  ##  For food quality\n",
        "  # controller\n",
        "  temperature = ctrl.Antecedent(np.linspace(0, 10, 11), 'temperature')\n",
        "  flavor = ctrl.Antecedent(np.linspace(0, 10, 11), 'flavor')\n",
        "  portion_size = ctrl.Antecedent(np.linspace(0, 10, 11), 'portion_size')\n",
        "  attentiveness = ctrl.Antecedent(np.linspace(0, 10, 11), 'attentiveness')\n",
        "  friendliness = ctrl.Antecedent(np.linspace(0, 10, 11), 'friendliness')\n",
        "  speed = ctrl.Antecedent(np.linspace(0, 10, 11), 'speed')\n",
        "  food_quality_tip = ctrl.Antecedent(np.linspace(0, 10, 11), 'food_quality_tip')\n",
        "  service_quality_tip = ctrl.Antecedent(np.linspace(0, 10, 11), 'service_quality_tip')\n",
        "\n",
        "  food_quality = ctrl.Consequent(np.linspace(0, 10, 11), 'food_quality')\n",
        "  service_quality = ctrl.Consequent(np.linspace(0, 10, 11), 'service_quality')\n",
        "  tip = ctrl.Consequent(np.linspace(0, 30, 31), 'tip')\n",
        "\n",
        "  gene = chromosome[0]\n",
        "  temperature['poor'] = fuzz.trimf(temperature.universe, [0, 0, gene.value[0]])\n",
        "  temperature['average'] = fuzz.trimf(temperature.universe, [0, gene.value[1], 10])\n",
        "  temperature['good'] = fuzz.trimf(temperature.universe, [gene.value[2], 10, 10])\n",
        "  flavor['poor'] = fuzz.trimf(flavor.universe, [0, 0, gene.value[0]])\n",
        "  flavor['average'] = fuzz.trimf(flavor.universe, [0, gene.value[1], 10])\n",
        "  flavor['good'] = fuzz.trimf(flavor.universe, [gene.value[1], 10, 10])\n",
        "  portion_size['poor'] = fuzz.trimf(portion_size.universe, [0, 0, gene.value[0]])\n",
        "  portion_size['average'] = fuzz.trimf(portion_size.universe, [0, gene.value[1], 10])\n",
        "  portion_size['good'] = fuzz.trimf(portion_size.universe, [gene.value[2], 10, 10])\n",
        "  attentiveness['poor'] = fuzz.trimf(attentiveness.universe, [0, 0, gene.value[0]])\n",
        "  attentiveness['average'] = fuzz.trimf(attentiveness.universe, [0, gene.value[1], 10])\n",
        "  attentiveness['good'] = fuzz.trimf(attentiveness.universe, [gene.value[2], 10, 10])\n",
        "  friendliness['poor'] = fuzz.trimf(friendliness.universe, [0, 0, gene.value[0]])\n",
        "  friendliness['average'] = fuzz.trimf(friendliness.universe, [0, gene.value[1], 10])\n",
        "  friendliness['good'] = fuzz.trimf(friendliness.universe, [gene.value[2], 10, 10])\n",
        "  speed['poor'] = fuzz.trimf(speed.universe, [0, 0, gene.value[0]])\n",
        "  speed['average'] = fuzz.trimf(speed.universe, [0, gene.value[1], 10])\n",
        "  speed['good'] = fuzz.trimf(speed.universe, [gene.value[2], 10, 10])\n",
        "  food_quality_tip['poor'] = fuzz.trimf(food_quality_tip.universe, [0, 0, gene.value[0]])\n",
        "  food_quality_tip['average'] = fuzz.trimf(food_quality_tip.universe, [0, gene.value[1], 10])\n",
        "  food_quality_tip['good'] = fuzz.trimf(food_quality_tip.universe, [gene.value[2], 10, 10])\n",
        "  service_quality_tip['poor'] = fuzz.trimf(service_quality_tip.universe, [0, 0, gene.value[0]])\n",
        "  service_quality_tip['average'] = fuzz.trimf(service_quality_tip.universe, [0, gene.value[1], 10])\n",
        "  service_quality_tip['good'] = fuzz.trimf(service_quality_tip.universe, [gene.value[2], 10, 10])\n",
        "\n",
        "  food_quality['poor'] = fuzz.trimf(food_quality.universe, [0, 0, 5])\n",
        "  food_quality['average'] = fuzz.trimf(food_quality.universe, [0, 5, 10])\n",
        "  food_quality['good'] = fuzz.trimf(food_quality.universe, [5, 10, 10])\n",
        "  service_quality['poor'] = fuzz.trimf(service_quality.universe, [0, 0, 5])\n",
        "  service_quality['average'] = fuzz.trimf(service_quality.universe, [0, 5, 10])\n",
        "  service_quality['good'] = fuzz.trimf(service_quality.universe, [5, 10, 10])\n",
        "  tip['low'] = fuzz.trimf(tip.universe, [0, 0, 15])\n",
        "  tip['medium'] = fuzz.trimf(tip.universe, [0, 15, 30])\n",
        "  tip['high'] = fuzz.trimf(tip.universe, [15, 30, 30])\n",
        "\n",
        "  # Fuzzy Rules\n",
        "  rule1_food = ctrl.Rule(temperature['poor'] | flavor['poor'] | portion_size['poor'], food_quality['poor'])\n",
        "  rule2_food = ctrl.Rule(temperature['average'] | flavor['average'] | portion_size['average'], food_quality['average'])\n",
        "  rule3_food = ctrl.Rule(temperature['good'] & flavor['good'] & portion_size['good'], food_quality['good'])\n",
        "  rule1_service = ctrl.Rule(attentiveness['poor'] | friendliness['poor'] | speed['poor'], service_quality['poor'])\n",
        "  rule2_service = ctrl.Rule(attentiveness['average'] | friendliness['average'] | speed['average'], service_quality['average'])\n",
        "  rule3_service = ctrl.Rule(attentiveness['good'] & friendliness['good'] & speed['good'], service_quality['good'])\n",
        "  rule1_tip = ctrl.Rule(food_quality_tip['poor'] | service_quality_tip['poor'], tip['low'])\n",
        "  rule2_tip = ctrl.Rule(service_quality_tip['average'] | food_quality_tip['average'], tip['medium'])\n",
        "  rule3_tip = ctrl.Rule(service_quality_tip['good'] & food_quality_tip['good'], tip['high'])\n",
        "\n",
        "  # Control System Creation and Simulation\n",
        "  food_ctrl = ctrl.ControlSystem([rule1_food, rule2_food, rule3_food])\n",
        "  service_ctrl = ctrl.ControlSystem([rule1_service, rule2_service, rule3_service])\n",
        "  tipping_ctrl = ctrl.ControlSystem([rule1_tip, rule2_tip, rule3_tip])\n",
        "\n",
        "  food_sim = ctrl.ControlSystemSimulation(food_ctrl)\n",
        "  service_sim = ctrl.ControlSystemSimulation(service_ctrl)\n",
        "  tipping_sim = ctrl.ControlSystemSimulation(tipping_ctrl)\n",
        "\n",
        "  return food_sim, service_sim, tipping_sim"
      ],
      "metadata": {
        "id": "-99PUp0lzVAP"
      },
      "execution_count": 174,
      "outputs": []
    },
    {
      "cell_type": "code",
      "source": [
        "def executeFuzzyInf(food_sim, service_sim, tip_sim, inputs):\n",
        "  food_sim.input['temperature'] = inputs['temperature']\n",
        "  food_sim.input['flavor'] = inputs['flavor']\n",
        "  food_sim.input['portion_size'] = inputs['portion_size']\n",
        "  service_sim.input['attentiveness'] = inputs['attentiveness']\n",
        "  service_sim.input['friendliness'] = inputs['friendliness']\n",
        "  service_sim.input['speed'] = inputs['speed']\n",
        "  food_sim.compute()\n",
        "  service_sim.compute()\n",
        "\n",
        "  food_quality_output = food_sim.output['food_quality']\n",
        "  service_quality_output = service_sim.output['service_quality']\n",
        "\n",
        "  tip_sim.input['food_quality_tip'] = food_quality_output\n",
        "  tip_sim.input['service_quality_tip'] = service_quality_output\n",
        "  tip_sim.compute()\n",
        "\n",
        "  tip_output = tip_sim.output['tip']\n",
        "\n",
        "  # print(f\"\\nThe predicted tip is {tip_output:.2f}%\")\n",
        "  return tip_output"
      ],
      "metadata": {
        "id": "h0hPgpS_zWee"
      },
      "execution_count": 14,
      "outputs": []
    },
    {
      "cell_type": "code",
      "source": [
        "def dataCleaning(inputs):\n",
        "  for key, value in inputs.items():\n",
        "      inputs[key] = 0 if inputs[key] < 0 else inputs[key]\n",
        "      inputs[key] = 10 if inputs[key] > 10 else inputs[key]\n",
        "  return inputs"
      ],
      "metadata": {
        "id": "FwCfkO39D_mJ"
      },
      "execution_count": 76,
      "outputs": []
    },
    {
      "cell_type": "code",
      "source": [
        "def fitness(chromosome):\n",
        "  food_sim, service_sim, tip_sim = fuzzyModelConstruction(chromosome)\n",
        "  total_error = 0\n",
        "  for index, row in data.iterrows():\n",
        "    inputs = {\n",
        "        'temperature': row['food temperature']*10,\n",
        "        'flavor': row['food flavor']*10,\n",
        "        'portion_size': row['portion size']*10,\n",
        "        'attentiveness': row['attentiveness']*10,\n",
        "        'friendliness': row['friendliness']*10,\n",
        "        'speed': row['speed of service']*10\n",
        "    }\n",
        "    inputs = dataCleaning(inputs)\n",
        "    actual_tip = row['tip']\n",
        "    predicted_tip = executeFuzzyInf(food_sim, service_sim, tip_sim, inputs)\n",
        "    error = abs(actual_tip - predicted_tip)\n",
        "    total_error += error\n",
        "  return total_error"
      ],
      "metadata": {
        "id": "c_Z2jc5yzcBP"
      },
      "execution_count": 162,
      "outputs": []
    },
    {
      "cell_type": "code",
      "source": [
        "def generate_chromosome():\n",
        "  chromosome = [\n",
        "      random.uniform(0, 10),\n",
        "      random.uniform(0, 10),\n",
        "      random.uniform(0, 10)\n",
        "  ]\n",
        "  return chromosome"
      ],
      "metadata": {
        "id": "E-NdbBiDzfCN"
      },
      "execution_count": 175,
      "outputs": []
    },
    {
      "cell_type": "code",
      "execution_count": 199,
      "metadata": {
        "id": "BTYewhcy7WNH"
      },
      "outputs": [],
      "source": [
        "def pipeline(popSize, generaSize, generChrom=generate_chromosome):\n",
        "  ga = EasyGA.GA()\n",
        "  ga.gene_impl = lambda: generChrom()\n",
        "  ga.chromosome_length = 1\n",
        "  ga.population_size = popSize\n",
        "  ga.target_fitness_type = 'min'\n",
        "  ga.generation_goal = generaSize\n",
        "  ga.fitness_function_impl = fitness\n",
        "\n",
        "  # try:\n",
        "  #   ga.evolve()\n",
        "  # except Exception as e:\n",
        "  #   print(f\"Error: {type(e).__name__} {e}\")\n",
        "  # finally:\n",
        "  #   file_paths = ['database.db', 'database.db-journal']\n",
        "  #   for i in range(len(file_paths)):\n",
        "  #     if os.path.exists(file_paths[i]):\n",
        "  #         os.remove(file_paths[i])\n",
        "  ga.evolve()\n",
        "\n",
        "  if (generChrom == generate_chromosome):\n",
        "    ga.print_best_chromosome()\n",
        "    ga.print_worst_chromosome()\n",
        "  else:\n",
        "    ga.print_population()"
      ]
    },
    {
      "cell_type": "code",
      "source": [
        "global data\n",
        "train_data = pd.read_csv(\"tipper_train.csv\")\n",
        "data = train_data\n",
        "pipeline(40, 3)"
      ],
      "metadata": {
        "colab": {
          "base_uri": "https://localhost:8080/"
        },
        "id": "yZkDgQqcm94N",
        "outputId": "97960222-45bf-466c-f8a2-096324ef87da"
      },
      "execution_count": 202,
      "outputs": [
        {
          "output_type": "stream",
          "name": "stdout",
          "text": [
            "Best Chromosome \t: [[4.686818788673647, 8.968116531313866, 3.5204170943083546]]\n",
            "Best Fitness    \t: 862.8462039459184\n",
            "Worst Chromosome \t: [[8.140617946653116, 0.7522726066335239, 7.091546392859012]]\n",
            "Worst Fitness    \t: 916.6979666663922\n"
          ]
        }
      ]
    },
    {
      "cell_type": "markdown",
      "source": [
        "# TEST CASES"
      ],
      "metadata": {
        "id": "ECcdFBpLoRgq"
      }
    },
    {
      "cell_type": "code",
      "source": [
        "def test_chromosome():\n",
        "  best_chromosome = [4.686818788673647, 8.968116531313866, 3.5204170943083546]\n",
        "  return best_chromosome"
      ],
      "metadata": {
        "id": "8aJz084Lvd73"
      },
      "execution_count": 203,
      "outputs": []
    },
    {
      "cell_type": "code",
      "source": [
        "from EasyGA.structure import chromosome\n",
        "global test_data\n",
        "test_data = pd.read_csv(\"tipper_test.csv\")\n",
        "data = test_data\n",
        "pipeline(1, 1, test_chromosome)"
      ],
      "metadata": {
        "colab": {
          "base_uri": "https://localhost:8080/"
        },
        "id": "j6u9I0DIoPsX",
        "outputId": "90ffa891-3e01-482a-80fa-9b0063aa7321"
      },
      "execution_count": 205,
      "outputs": [
        {
          "output_type": "stream",
          "name": "stdout",
          "text": [
            "Chromosome - 0 [[4.686818788673647, 8.968116531313866, 3.5204170943083546]] / Fitness = 173.37130593427156\n",
            "\n"
          ]
        }
      ]
    }
  ]
}