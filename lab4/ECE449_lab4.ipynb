{
  "nbformat": 4,
  "nbformat_minor": 0,
  "metadata": {
    "colab": {
      "provenance": []
    },
    "kernelspec": {
      "name": "python3",
      "display_name": "Python 3"
    },
    "language_info": {
      "name": "python"
    }
  },
  "cells": [
    {
      "cell_type": "code",
      "source": [
        "## Reference: https://pythonhosted.org/scikit-fuzzy/auto_examples/plot_tipping_problem_newapi.html"
      ],
      "metadata": {
        "id": "cV4il9OU-PVQ"
      },
      "execution_count": 78,
      "outputs": []
    },
    {
      "cell_type": "code",
      "source": [
        "!pip install scikit-fuzzy"
      ],
      "metadata": {
        "colab": {
          "base_uri": "https://localhost:8080/"
        },
        "id": "ETssHi0WW0Jd",
        "outputId": "0441c0cc-fcaf-490e-a7f8-d4b9eccdc63e"
      },
      "execution_count": 79,
      "outputs": [
        {
          "output_type": "stream",
          "name": "stdout",
          "text": [
            "Requirement already satisfied: scikit-fuzzy in /usr/local/lib/python3.10/dist-packages (0.4.2)\n",
            "Requirement already satisfied: numpy>=1.6.0 in /usr/local/lib/python3.10/dist-packages (from scikit-fuzzy) (1.23.5)\n",
            "Requirement already satisfied: scipy>=0.9.0 in /usr/local/lib/python3.10/dist-packages (from scikit-fuzzy) (1.11.3)\n",
            "Requirement already satisfied: networkx>=1.9.0 in /usr/local/lib/python3.10/dist-packages (from scikit-fuzzy) (3.2.1)\n"
          ]
        }
      ]
    },
    {
      "cell_type": "code",
      "execution_count": 20,
      "metadata": {
        "id": "3wRsH2ArV_6_"
      },
      "outputs": [],
      "source": [
        "import skfuzzy as fuzz\n",
        "from skfuzzy import control as ctrl\n",
        "import numpy as np\n",
        "from sklearn.pipeline import Pipeline\n",
        "import re"
      ]
    },
    {
      "cell_type": "code",
      "source": [
        "def fuzzyModelConstruction():\n",
        "  ##  For food quality\n",
        "  # controller\n",
        "  temperature = ctrl.Antecedent(np.linspace(0, 10, 11), 'temperature')\n",
        "  flavor = ctrl.Antecedent(np.linspace(0, 10, 11), 'flavor')\n",
        "  portion_size = ctrl.Antecedent(np.linspace(0, 10, 11), 'portion_size')\n",
        "  attentiveness = ctrl.Antecedent(np.linspace(0, 10, 11), 'attentiveness')\n",
        "  friendliness = ctrl.Antecedent(np.linspace(0, 10, 11), 'friendliness')\n",
        "  speed = ctrl.Antecedent(np.linspace(0, 10, 11), 'speed')\n",
        "  food_quality_tip = ctrl.Antecedent(np.linspace(0, 10, 11), 'food_quality_tip')\n",
        "  service_quality_tip = ctrl.Antecedent(np.linspace(0, 10, 11), 'service_quality_tip')\n",
        "\n",
        "  food_quality = ctrl.Consequent(np.linspace(0, 10, 11), 'food_quality')\n",
        "  service_quality = ctrl.Consequent(np.linspace(0, 10, 11), 'service_quality')\n",
        "  tip = ctrl.Consequent(np.linspace(0, 25, 26), 'tip')\n",
        "\n",
        "  temperature.automf(3)\n",
        "  flavor.automf(3)\n",
        "  portion_size.automf(3)\n",
        "  attentiveness.automf(3)\n",
        "  friendliness.automf(3)\n",
        "  speed.automf(3)\n",
        "  food_quality_tip.automf(3)\n",
        "  service_quality_tip.automf(3)\n",
        "\n",
        "  food_quality['poor'] = fuzz.trimf(food_quality.universe, [0, 0, 5])\n",
        "  food_quality['average'] = fuzz.trimf(food_quality.universe, [0, 5, 10])\n",
        "  food_quality['good'] = fuzz.trimf(food_quality.universe, [5, 10, 10])\n",
        "  service_quality['poor'] = fuzz.trimf(service_quality.universe, [0, 0, 5])\n",
        "  service_quality['average'] = fuzz.trimf(service_quality.universe, [0, 5, 10])\n",
        "  service_quality['good'] = fuzz.trimf(service_quality.universe, [5, 10, 10])\n",
        "  tip['low'] = fuzz.trimf(tip.universe, [0, 0, 13])\n",
        "  tip['medium'] = fuzz.trimf(tip.universe, [0, 13, 25])\n",
        "  tip['high'] = fuzz.trimf(tip.universe, [13, 25, 25])\n",
        "\n",
        "  # Fuzzy Rules\n",
        "  rule1_food = ctrl.Rule(temperature['poor'] | flavor['poor'] | portion_size['poor'], food_quality['poor'])\n",
        "  rule2_food = ctrl.Rule(temperature['average'] | flavor['average'] | portion_size['average'], food_quality['average'])\n",
        "  rule3_food = ctrl.Rule(temperature['good'] & flavor['good'] & portion_size['good'], food_quality['good'])\n",
        "  rule1_service = ctrl.Rule(attentiveness['poor'] | friendliness['poor'] | speed['poor'], service_quality['poor'])\n",
        "  rule2_service = ctrl.Rule(attentiveness['average'] | friendliness['average'] | speed['average'], service_quality['average'])\n",
        "  rule3_service = ctrl.Rule(attentiveness['good'] & friendliness['good'] & speed['good'], service_quality['good'])\n",
        "  rule1_tip = ctrl.Rule(food_quality_tip['poor'] | service_quality_tip['poor'], tip['low'])\n",
        "  rule2_tip = ctrl.Rule(service_quality_tip['average'] | food_quality_tip['average'], tip['medium'])\n",
        "  rule3_tip = ctrl.Rule(service_quality_tip['good'] & food_quality_tip['good'], tip['high'])\n",
        "\n",
        "  # Control System Creation and Simulation\n",
        "  food_ctrl = ctrl.ControlSystem([rule1_food, rule2_food, rule3_food])\n",
        "  service_ctrl = ctrl.ControlSystem([rule1_service, rule2_service, rule3_service])\n",
        "  tipping_ctrl = ctrl.ControlSystem([rule1_tip, rule2_tip, rule3_tip])\n",
        "\n",
        "  food_sim = ctrl.ControlSystemSimulation(food_ctrl)\n",
        "  service_sim = ctrl.ControlSystemSimulation(service_ctrl)\n",
        "  tipping_sim = ctrl.ControlSystemSimulation(tipping_ctrl)\n",
        "\n",
        "  return food_sim, service_sim, tipping_sim"
      ],
      "metadata": {
        "id": "rBeXGZdtDsoR"
      },
      "execution_count": 11,
      "outputs": []
    },
    {
      "cell_type": "code",
      "source": [
        "def prompt_input():\n",
        "  param_list = ['food temperature', 'food flavor', 'food portion size', 'service attentiveness', 'service friendliness', 'service speed']\n",
        "  input_params = []\n",
        "  global exit_flag\n",
        "  for i in range(len(param_list)):\n",
        "    while True:\n",
        "      user_input = input(f\"Satisfaction on {param_list[i]} (0~10 | 'exit' to end): \")\n",
        "\n",
        "      # Check if the user wants to exit\n",
        "      if user_input.lower() == 'exit':\n",
        "        print(\"\\nThe program terminates.\")\n",
        "        exit_flag = True\n",
        "        break\n",
        "      # check if legal (is a number and [1,10])\n",
        "      elif not re.compile(r'^[-+]?\\d*\\.?\\d+$').match(user_input):\n",
        "        print(f\"\\nInvalid input, please enter again\")\n",
        "        print(f\"The input input_params are currently: {input_params}\\n\")\n",
        "        continue\n",
        "      elif (float(user_input) > 10.0 or float(user_input) < 0.0):\n",
        "        print(f\"\\nInvalid input, {user_input} out of range, please enter again\")\n",
        "        print(f\"The input input_params are currently: {input_params}\\n\")\n",
        "        continue\n",
        "\n",
        "      # Process the user input\n",
        "      input_params.append(float(user_input))\n",
        "      break\n",
        "    if exit_flag:\n",
        "      break\n",
        "\n",
        "  # if parameters is not enough, make it zeros to prevent out of range error\n",
        "  lacks = len(param_list)-len(input_params)\n",
        "  if (lacks > 0):\n",
        "    for j in range(lacks):\n",
        "      input_params.append(0)\n",
        "\n",
        "  return input_params"
      ],
      "metadata": {
        "id": "iWI8L9Aapyxm"
      },
      "execution_count": 32,
      "outputs": []
    },
    {
      "cell_type": "code",
      "source": [
        "def pipeline(input_params):\n",
        "  food_sim, service_sim, tipping_sim = fuzzyModelConstruction()\n",
        "\n",
        "  food_sim.input['temperature'] = input_params[0]\n",
        "  food_sim.input['flavor'] = input_params[1]\n",
        "  food_sim.input['portion_size'] = input_params[2]\n",
        "  service_sim.input['attentiveness'] = input_params[3]\n",
        "  service_sim.input['friendliness'] = input_params[4]\n",
        "  service_sim.input['speed'] = input_params[5]\n",
        "  food_sim.compute()\n",
        "  service_sim.compute()\n",
        "\n",
        "  food_quality_output = food_sim.output['food_quality']\n",
        "  service_quality_output = service_sim.output['service_quality']\n",
        "\n",
        "  tipping_sim.input['food_quality_tip'] = food_quality_output\n",
        "  tipping_sim.input['service_quality_tip'] = service_quality_output\n",
        "  tipping_sim.compute()\n",
        "\n",
        "  tip_output = tipping_sim.output['tip']\n",
        "\n",
        "  print(f\"\\nThe suggested tip is {tip_output:.2f}%\")"
      ],
      "metadata": {
        "id": "y6EXX9YuVCc-"
      },
      "execution_count": 13,
      "outputs": []
    },
    {
      "cell_type": "code",
      "source": [
        "global exit_flag\n",
        "exit_flag = False\n",
        "\n",
        "input_params = prompt_input()\n",
        "if not exit_flag:\n",
        "  pipeline(input_params)"
      ],
      "metadata": {
        "colab": {
          "base_uri": "https://localhost:8080/"
        },
        "id": "lHCGe0ybgsfz",
        "outputId": "f709b44e-9875-4fc4-dc6f-3a10b47c04d3"
      },
      "execution_count": 33,
      "outputs": [
        {
          "output_type": "stream",
          "name": "stdout",
          "text": [
            "Satisfaction on food temperature (0~10 | 'exit' to end): 1\n",
            "Satisfaction on food flavor (0~10 | 'exit' to end): exit\n",
            "\n",
            "The program terminates.\n"
          ]
        }
      ]
    }
  ]
}